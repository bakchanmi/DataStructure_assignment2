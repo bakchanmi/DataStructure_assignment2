{
  "nbformat": 4,
  "nbformat_minor": 0,
  "metadata": {
    "colab": {
      "provenance": []
    },
    "kernelspec": {
      "name": "python3",
      "display_name": "Python 3"
    },
    "language_info": {
      "name": "python"
    }
  },
  "cells": [
    {
      "cell_type": "markdown",
      "source": [
        "## 3번."
      ],
      "metadata": {
        "id": "DsNyVhWWR5a4"
      }
    },
    {
      "cell_type": "code",
      "execution_count": 14,
      "metadata": {
        "colab": {
          "base_uri": "https://localhost:8080/"
        },
        "id": "lse-MV4hRNJO",
        "outputId": "9857e1aa-3c23-4faa-dfc1-c45ab3899a0a"
      },
      "outputs": [
        {
          "output_type": "stream",
          "name": "stdout",
          "text": [
            "생일이 가장 늦은 10명:\n",
            "신수민 - 2005-12-30\n",
            "이서영 - 2005-12-25\n",
            "강민주 - 2005-12-14\n",
            "김민경 - 2005-12-02\n",
            "이서영 - 2005-11-12\n",
            "배시은 - 2005-11-02\n",
            "김여원 - 2005-10-31\n",
            "이서진 - 2005-10-28\n",
            "서홍빈 - 2005-10-24\n",
            "김예빈 - 2005-10-19\n"
          ]
        }
      ],
      "source": [
        "import csv\n",
        "from datetime import datetime\n",
        "from heap import Heap\n",
        "\n",
        "heap = Heap()\n",
        "\n",
        "with open('birthday.csv', 'r', encoding='utf-8') as f:\n",
        "    reader = csv.DictReader(f)\n",
        "    for row in reader:\n",
        "        name = row['이름']\n",
        "        birth_str = row['생년월일8자리(예.20040101)']\n",
        "\n",
        "        try:\n",
        "            if len(birth_str) == 8 and birth_str.isdigit():\n",
        "                birth_date = datetime.strptime(birth_str, \"%Y%m%d\").date()\n",
        "                heap.insert((birth_date, name))\n",
        "        except ValueError:\n",
        "            pass\n",
        "\n",
        "print(\"생일이 가장 늦은 10명:\")\n",
        "for _ in range(min(10, heap.size())):\n",
        "    birth, name = heap.deleteMax()\n",
        "    print(f\"{name} - {birth}\")\n"
      ]
    },
    {
      "cell_type": "markdown",
      "source": [
        "## 4번."
      ],
      "metadata": {
        "id": "9ogIJ3ZHUmZ4"
      }
    },
    {
      "cell_type": "code",
      "source": [
        "from circularDoublyLinkedList import CircularDoublyLinkedList\n",
        "import csv\n",
        "from datetime import datetime\n",
        "\n",
        "\n",
        "조원들 = [\n",
        "    '이원진', '박찬미', '박혜린', '전민서', '임서영',\n",
        "    '이서현', '안소민', '이채민', '이예림', '이수빈',\n",
        "    '김효리', '이지영', '이진', '김나림', '이가연'\n",
        "]\n",
        "\n",
        "\n",
        "이름_to_생일 = {name: '생일 정보 없음' for name in 조원들}\n",
        "\n",
        "\n",
        "with open('birthday.csv', 'r', encoding='utf-8') as f:\n",
        "    reader = csv.DictReader(f)\n",
        "    for row in reader:\n",
        "        name = row['이름']\n",
        "        birth_str = row['생년월일8자리(예.20040101)']\n",
        "        if name in 이름_to_생일:\n",
        "            try:\n",
        "                if len(birth_str) == 8 and birth_str.isdigit():\n",
        "                    birth_date = datetime.strptime(birth_str, \"%Y%m%d\").date()\n",
        "                    이름_to_생일[name] = str(birth_date)\n",
        "            except:\n",
        "                pass\n",
        "\n",
        "\n",
        "조원리스트 = CircularDoublyLinkedList()\n",
        "for name in 조원들:\n",
        "    birth = 이름_to_생일[name]\n",
        "    조원리스트.append(f\"{name} - {birth}\")\n",
        "\n",
        "# 5. 출력\n",
        "print(\"조원 이름과 생년월일:\")\n",
        "조원리스트.printList()\n"
      ],
      "metadata": {
        "colab": {
          "base_uri": "https://localhost:8080/"
        },
        "id": "WwzleeshWeQ0",
        "outputId": "0ebbf315-50f5-4473-bbe3-e655263ea280"
      },
      "execution_count": 20,
      "outputs": [
        {
          "output_type": "stream",
          "name": "stdout",
          "text": [
            "조원 이름과 생년월일:\n",
            "이원진 - 2005-06-02 박찬미 - 2000-05-07 박혜린 - 2003-06-03 전민서 - 2004-03-18 임서영 - 2005-02-07 이서현 - 2004-06-09 안소민 - 2004-04-20 이채민 - 생일 정보 없음 이예림 - 2002-12-15 이수빈 - 2004-09-10 김효리 - 2001-12-12 이지영 - 생일 정보 없음 이진 - 2002-04-15 김나림 - 2003-08-05 이가연 - 2004-09-27 \n"
          ]
        }
      ]
    },
    {
      "cell_type": "markdown",
      "source": [
        "## 5번."
      ],
      "metadata": {
        "id": "O6DzDEB1ab0H"
      }
    },
    {
      "cell_type": "markdown",
      "source": [
        "1. 깊이에 따라 더 큰 값이 아래에 있을 수도 있기 때문에 그렇지 않다.\n",
        "\n",
        "2. 그렇지 않다.\n",
        "\n",
        "3. (n/2)개\n",
        "\n",
        "4. Θ(log n)\n",
        "\n",
        "5. 간단한 일이다. (마지막 원소는 배열의 끝에 있으므로)\n",
        "\n",
        "6. 비효율적이다. 스며올리기를 반복하면 buildHeap 시간복잡도는 O(n log n) 이다. 반면 스며내리기를 사용한 방법은 O(n)으로 더 효율적이다.\n",
        "\n",
        "7. 새로운 원소를 마지막에 삽입한 후 부모와 비교하며 위로 올리면된다."
      ],
      "metadata": {
        "id": "Qi8QkneLfVpX"
      }
    },
    {
      "cell_type": "markdown",
      "source": [
        "## 6번."
      ],
      "metadata": {
        "id": "eu9xpLm2aeIk"
      }
    },
    {
      "cell_type": "code",
      "source": [
        "import heapq\n",
        "\n",
        "class KthLargest:\n",
        "\n",
        "    def __init__(self, k: int, nums: list[int]):\n",
        "        self.k = k\n",
        "        self.heap = nums\n",
        "        heapq.heapify(self.heap)\n",
        "\n",
        "        while len(self.heap) > k:\n",
        "            heapq.heappop(self.heap)\n",
        "\n",
        "    def add(self, val: int) -> int:\n",
        "        heapq.heappush(self.heap, val)\n",
        "\n",
        "        if len(self.heap) > self.k:\n",
        "            heapq.heappop(self.heap)\n",
        "\n",
        "        return self.heap[0]\n"
      ],
      "metadata": {
        "id": "5gU6gC1ciKqp"
      },
      "execution_count": 22,
      "outputs": []
    }
  ]
}